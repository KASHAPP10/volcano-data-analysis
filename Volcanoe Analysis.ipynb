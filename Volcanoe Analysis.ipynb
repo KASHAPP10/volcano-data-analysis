{
 "cells": [
  {
   "cell_type": "code",
   "execution_count": 64,
   "id": "2d53433f-b83e-4703-8e1c-4e1b065410f3",
   "metadata": {},
   "outputs": [],
   "source": [
    "csv_data = \"\"\"Name,Country,Elevation\n",
    "Mount Fuji,Japan,3776\n",
    "Mauna Loa,USA,4169\n",
    "Mount Etna,Italy,3329\n",
    "Mount Kilimanjaro,Tanzania,5895\n",
    "Eyjafjallajökull,Iceland,1651\n",
    "Mount Vesuvius,Italy,1281\n",
    "Mount St. Helens,USA,2549\n",
    "Mount Merapi,Indonesia,2930\n",
    "Mount Rainier,USA,4392\n",
    "Krakatoa,Indonesia,813\n",
    "\"\"\"\n",
    "with open('volcanoes.csv', 'w') as file:\n",
    "    file.write(csv_data)"
   ]
  },
  {
   "cell_type": "code",
   "execution_count": 68,
   "id": "f186e5a0-3e96-4545-a1f7-78f7fbc7ebdd",
   "metadata": {},
   "outputs": [
    {
     "name": "stdout",
     "output_type": "stream",
     "text": [
      "                Name   Country  Elevation\n",
      "0         Mount Fuji     Japan       3776\n",
      "1          Mauna Loa       USA       4169\n",
      "2         Mount Etna     Italy       3329\n",
      "3  Mount Kilimanjaro  Tanzania       5895\n",
      "4   Eyjafjallajökull   Iceland       1651\n"
     ]
    }
   ],
   "source": [
    "#Show data in table\n",
    "df = pd.read_csv('volcanoes.csv')\n",
    "print(df.head())"
   ]
  },
  {
   "cell_type": "code",
   "execution_count": 84,
   "id": "90dd0c7d-94b9-4082-a091-4904031050c0",
   "metadata": {},
   "outputs": [
    {
     "name": "stdout",
     "output_type": "stream",
     "text": [
      "Country\n",
      "USA          3\n",
      "Italy        2\n",
      "Indonesia    2\n",
      "Japan        1\n",
      "Tanzania     1\n",
      "Iceland      1\n",
      "Name: count, dtype: int64\n"
     ]
    }
   ],
   "source": [
    "#Find how many volcanoes were in each country\n",
    "volcano_counts = df['Country'].value_counts()\n",
    "print(volcano_counts)"
   ]
  },
  {
   "cell_type": "code",
   "execution_count": 100,
   "id": "2ef582a7-7496-4de4-8084-269fac31a30b",
   "metadata": {},
   "outputs": [
    {
     "name": "stdout",
     "output_type": "stream",
     "text": [
      "Average Elevation: 3078.5\n"
     ]
    }
   ],
   "source": [
    "#average elevation of volcanoes\n",
    "average_elevation = df['Elevation'].mean()\n",
    "print(f\"Average Elevation: {average_elevation}\")"
   ]
  },
  {
   "cell_type": "code",
   "execution_count": 110,
   "id": "3bfcc250-6823-4edf-a986-b94ea6f280be",
   "metadata": {},
   "outputs": [
    {
     "data": {
      "image/png": "[encoded data removed]",
      "text/plain": [
       "<Figure size 1000x600 with 1 Axes>"
      ]
     },
     "metadata": {},
     "output_type": "display_data"
    }
   ],
   "source": [
    "# Plot the top 5 highest elevations on a bar chart\n",
    "top_5 = volcano_counts.head(5)\n",
    "plt.figure(figsize=(10,6))\n",
    "plt.bar(top_5.index, top_5.values)\n",
    "plt.xlabel('Country')\n",
    "plt.ylabel('Elevation')\n",
    "plt.title('Top 5 Volcanoes by Height')\n",
    "plt.xticks(rotation=45)\n",
    "plt.tight_layout()\n",
    "plt.show()"
   ]
  },
  {
   "cell_type": "code",
   "execution_count": 112,
   "id": "e9ec82d7-5e69-48d5-a140-388e8daf981b",
   "metadata": {},
   "outputs": [
    {
     "name": "stdout",
     "output_type": "stream",
     "text": [
      "Highest Volcano: 5895\n"
     ]
    }
   ],
   "source": [
    "# Find the Volcano with the highest elevation\n",
    "highest_volcano = df['Elevation'].max()\n",
    "print(f'Highest Volcano: {highest_volcano}')"
   ]
  },
  {
   "cell_type": "code",
   "execution_count": 116,
   "id": "1ea49dba-4b64-498d-b888-7f51a999b49e",
   "metadata": {},
   "outputs": [
    {
     "name": "stdout",
     "output_type": "stream",
     "text": [
      "Lowest Volcano: 813\n"
     ]
    }
   ],
   "source": [
    "# Find the volcano with the lowest elevation\n",
    "lowest_volcano = df['Elevation'].min()\n",
    "print(f'Lowest Volcano: {lowest_volcano}')"
   ]
  },
  {
   "cell_type": "code",
   "execution_count": 132,
   "id": "c22ee768-fb81-4d4e-9cf1-8c80ad5706e4",
   "metadata": {},
   "outputs": [
    {
     "name": "stdout",
     "output_type": "stream",
     "text": [
      "Volcanoes Greater Than 4000: 3\n"
     ]
    }
   ],
   "source": [
    "#find all the volcanos that have a elevation higher than 4000\n",
    "len(df[ df['Elevation'] > 4000])\n",
    "print(f'Volcanoes Greater Than 4000: {len(df[ df['Elevation'] > 4000])}')"
   ]
  },
  {
   "cell_type": "code",
   "execution_count": 148,
   "id": "cf6ec88a-09f3-4564-b403-0259e95fcbf2",
   "metadata": {},
   "outputs": [
    {
     "data": {
      "text/html": [
       "<div>\n",
       "<style scoped>\n",
       "    .dataframe tbody tr th:only-of-type {\n",
       "        vertical-align: middle;\n",
       "    }\n",
       "\n",
       "    .dataframe tbody tr th {\n",
       "        vertical-align: top;\n",
       "    }\n",
       "\n",
       "    .dataframe thead th {\n",
       "        text-align: right;\n",
       "    }\n",
       "</style>\n",
       "<table border=\"1\" class=\"dataframe\">\n",
       "  <thead>\n",
       "    <tr style=\"text-align: right;\">\n",
       "      <th></th>\n",
       "      <th>Name</th>\n",
       "      <th>Country</th>\n",
       "      <th>Elevation</th>\n",
       "    </tr>\n",
       "  </thead>\n",
       "  <tbody>\n",
       "    <tr>\n",
       "      <th>1</th>\n",
       "      <td>Mauna Loa</td>\n",
       "      <td>USA</td>\n",
       "      <td>4169</td>\n",
       "    </tr>\n",
       "    <tr>\n",
       "      <th>6</th>\n",
       "      <td>Mount St. Helens</td>\n",
       "      <td>USA</td>\n",
       "      <td>2549</td>\n",
       "    </tr>\n",
       "    <tr>\n",
       "      <th>8</th>\n",
       "      <td>Mount Rainier</td>\n",
       "      <td>USA</td>\n",
       "      <td>4392</td>\n",
       "    </tr>\n",
       "  </tbody>\n",
       "</table>\n",
       "</div>"
      ],
      "text/plain": [
       "               Name Country  Elevation\n",
       "1         Mauna Loa     USA       4169\n",
       "6  Mount St. Helens     USA       2549\n",
       "8     Mount Rainier     USA       4392"
      ]
     },
     "execution_count": 148,
     "metadata": {},
     "output_type": "execute_result"
    }
   ],
   "source": [
    "df[ df['Country'] == 'USA' ]"
   ]
  },
  {
   "cell_type": "code",
   "execution_count": 152,
   "id": "b2717a75-a9b5-47ea-b47e-f02a5a6ed2e6",
   "metadata": {},
   "outputs": [
    {
     "data": {
      "text/plain": [
       "3"
      ]
     },
     "execution_count": 152,
     "metadata": {},
     "output_type": "execute_result"
    }
   ],
   "source": [
    "len(df[ df['Country'] == 'USA' ])"
   ]
  },
  {
   "cell_type": "code",
   "execution_count": 174,
   "id": "8083842b-c06a-4383-9c3d-7dfec91ad8f9",
   "metadata": {},
   "outputs": [
    {
     "name": "stdout",
     "output_type": "stream",
     "text": [
      "Volcanoes Lower Than 2000: 3\n"
     ]
    }
   ],
   "source": [
    "# Find all the volcanoes that have an elevation lower than 2000\n",
    "len(df[ df['Elevation'] < 2000 ])\n",
    "print(f'Volcanoes Lower Than 2000: {len(df[ df['Elevation'] < 2000])}')"
   ]
  },
  {
   "cell_type": "code",
   "execution_count": 178,
   "id": "c888e544-04ec-4131-9026-38bdb6b44a5a",
   "metadata": {},
   "outputs": [
    {
     "data": {
      "text/plain": [
       "1871.5"
      ]
     },
     "execution_count": 178,
     "metadata": {},
     "output_type": "execute_result"
    }
   ],
   "source": [
    "#Find the average elevation of volcanoes in indonesia only\n",
    "df[ df['Country'] == 'Indonesia']['Elevation'].mean()"
   ]
  },
  {
   "cell_type": "code",
   "execution_count": 194,
   "id": "9cd51222-a0e0-4cc5-9354-33015e778869",
   "metadata": {},
   "outputs": [
    {
     "name": "stdout",
     "output_type": "stream",
     "text": [
      "Average Elevation of Volcanoes taller than 3000 meters: 3078.5\n"
     ]
    }
   ],
   "source": [
    "# Find the average elevation of volcanoes taller than 3000\n",
    "average_elevation_over_3000 = df[ df['Elevation'] > 300]['Elevation'].mean()\n",
    "print(f\"Average Elevation of Volcanoes taller than 3000 meters: {average_elevation_over_3000}\")"
   ]
  },
  {
   "cell_type": "code",
   "execution_count": 206,
   "id": "d18adcb5-5170-4820-a44e-7f752b9dc950",
   "metadata": {},
   "outputs": [
    {
     "data": {
      "text/plain": [
       "2930.0"
      ]
     },
     "execution_count": 206,
     "metadata": {},
     "output_type": "execute_result"
    }
   ],
   "source": [
    "# Find the average elevation of volcanoes that are both in Indonesia and over 3000 meters\n",
    "df[ (df['Country'] == 'Indonesia') & (df['Elevation'] > 2000) ]['Elevation'].mean()"
   ]
  },
  {
   "cell_type": "code",
   "execution_count": 216,
   "id": "5efbb007-fffe-4fbc-8064-689d7e56e8d4",
   "metadata": {},
   "outputs": [
    {
     "name": "stdout",
     "output_type": "stream",
     "text": [
      "                Name   Country  Elevation\n",
      "3  Mount Kilimanjaro  Tanzania       5895\n",
      "8      Mount Rainier       USA       4392\n",
      "1          Mauna Loa       USA       4169\n"
     ]
    }
   ],
   "source": [
    "#Find the names and elevations of the Top 3 tallest volcanoes in the dataset\n",
    "top_3_volcanoes = df.sort_values(by='Elevation', ascending=False).head(3)\n",
    "print(top_3_volcanoes)"
   ]
  },
  {
   "cell_type": "code",
   "execution_count": null,
   "id": "0a53c271-3620-49bd-bd9f-3d73519f2d69",
   "metadata": {},
   "outputs": [],
   "source": []
  }
 ],
 "metadata": {
  "kernelspec": {
   "display_name": "Python [conda env:base] *",
   "language": "python",
   "name": "conda-base-py"
  },
  "language_info": {
   "codemirror_mode": {
    "name": "ipython",
    "version": 3
   },
   "file_extension": ".py",
   "mimetype": "text/x-python",
   "name": "python",
   "nbconvert_exporter": "python",
   "pygments_lexer": "ipython3",
   "version": "3.12.7"
  }
 },
 "nbformat": 4,
 "nbformat_minor": 5
}
